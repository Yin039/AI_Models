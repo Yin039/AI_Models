{
  "cells": [
    {
      "cell_type": "markdown",
      "metadata": {
        "id": "view-in-github",
        "colab_type": "text"
      },
      "source": [
        "<a href=\"https://colab.research.google.com/github/Yin039/AI_Models/blob/main/2-layer%20MLP.ipynb\" target=\"_parent\"><img src=\"https://colab.research.google.com/assets/colab-badge.svg\" alt=\"Open In Colab\"/></a>"
      ]
    },
    {
      "cell_type": "markdown",
      "metadata": {
        "id": "1STLXSr-T9Me"
      },
      "source": [
        "# **Build a 2-layer MLP for fetus classification**"
      ]
    },
    {
      "cell_type": "code",
      "source": [
        "import pandas as pd\n",
        "import numpy as np\n",
        "\n",
        "from google.colab import drive\n",
        "drive.mount(\"/content/gdrive\")"
      ],
      "metadata": {
        "id": "ikCAgCNSrQLS",
        "colab": {
          "base_uri": "https://localhost:8080/"
        },
        "outputId": "d1b99564-8447-444d-c197-e14c8e4f5f73"
      },
      "execution_count": null,
      "outputs": [
        {
          "output_type": "stream",
          "name": "stdout",
          "text": [
            "Mounted at /content/gdrive\n"
          ]
        }
      ]
    },
    {
      "cell_type": "code",
      "source": [
        "import random\n",
        "import torch\n",
        "import torch.nn as nn\n",
        "import torch.optim as optim\n",
        "\n",
        "def set_seed(seed):\n",
        "    random.seed(seed)\n",
        "    np.random.seed(seed)\n",
        "\n",
        "    # Set PyTorch random seed for CPU and GPU (if available)\n",
        "    torch.manual_seed(seed)\n",
        "    if torch.cuda.is_available():\n",
        "        torch.cuda.manual_seed(seed)\n",
        "        torch.cuda.manual_seed_all(seed)  # For multi-GPU setups\n",
        "\n",
        "    # Make sure that the results are deterministic\n",
        "    torch.backends.cudnn.deterministic = True\n",
        "    torch.backends.cudnn.benchmark = False\n",
        "\n",
        "# Set a fixed seed for reproducibility\n",
        "set_seed(42)"
      ],
      "metadata": {
        "id": "-zsObaReCu-4"
      },
      "execution_count": null,
      "outputs": []
    },
    {
      "cell_type": "code",
      "source": [
        "# load datasets\n",
        "train_data = pd.read_csv('/content/gdrive/MyDrive/WOA7015 GA/Fetus_trainingdata.csv')\n",
        "test_data = pd.read_csv('/content/gdrive/MyDrive/WOA7015 GA/Fetus_testingdata.csv')\n",
        "\n",
        "# read/sort the two datasets\n",
        "X_train = train_data.iloc[:, 1:17].values   # second to last column are features, 16 features in total\n",
        "Y_train = train_data.iloc[:, 0].values  # first column is outcome\n",
        "X_test = test_data.iloc[:, 1:17].values\n",
        "Y_test = test_data.iloc[:, 0].values"
      ],
      "metadata": {
        "id": "cNxkZjVLNUHl"
      },
      "execution_count": null,
      "outputs": []
    },
    {
      "cell_type": "code",
      "source": [
        "from sklearn.preprocessing import StandardScaler\n",
        "\n",
        "# scale the features based on training data\n",
        "scaler = StandardScaler()\n",
        "X_train = scaler.fit_transform(X_train)\n",
        "X_test = scaler.transform(X_test)"
      ],
      "metadata": {
        "id": "hrC5QsuhbSHz"
      },
      "execution_count": null,
      "outputs": []
    },
    {
      "cell_type": "code",
      "source": [
        "from torch.utils.data import DataLoader, TensorDataset\n",
        "from sklearn.preprocessing import LabelEncoder\n",
        "\n",
        "# Use LabelEncoder to convert string labels to numerical labels\n",
        "label_encoder = LabelEncoder()\n",
        "Y_train_encoded = label_encoder.fit_transform(Y_train)\n",
        "Y_test_encoded = label_encoder.transform(Y_test)\n",
        "\n",
        "# convert to PyTorch tensors\n",
        "X_train_tensor = torch.tensor(X_train, dtype=torch.float32)\n",
        "Y_train_tensor = torch.tensor(Y_train_encoded, dtype=torch.long)\n",
        "X_test_tensor = torch.tensor(X_test, dtype=torch.float32)\n",
        "Y_test_tensor = torch.tensor(Y_test_encoded, dtype=torch.long)\n",
        "\n",
        "# create DataLoader for training and testing datasets\n",
        "batch_size = 32\n",
        "train_dataset = TensorDataset(X_train_tensor, Y_train_tensor)\n",
        "test_dataset = TensorDataset(X_test_tensor, Y_test_tensor)\n"
      ],
      "metadata": {
        "id": "4ze3IumoudIX"
      },
      "execution_count": null,
      "outputs": []
    },
    {
      "cell_type": "markdown",
      "metadata": {
        "id": "KXnwRdC7UuZP"
      },
      "source": [
        "## BUILD THE MODEL WITH THE PYTORCH nn.MODULE\n",
        "\n",
        "nn.Module is a fundamental class in PyTorch used to create custom neural network architectures. It is a base class for all neural network modules in PyTorch, and it provides several essential functionalities for building and managing neural networks.\n",
        "\n",
        "When creating a custom neural network in PyTorch, you typically create a subclass of nn.Module and define the architecture by specifying the layers and operations that make up your neural network.\n",
        "\n",
        "Here is how the MLP looks like in code:"
      ]
    },
    {
      "cell_type": "code",
      "source": [
        "# define a MLP model\n",
        "class MLP(torch.nn.Module):\n",
        "    def __init__(self, input_size=16, hidden_sizes=[10], output_size=2, activation_fn=\"relu\", dropout_rate=0):\n",
        "        super(MLP, self).__init__()\n",
        "\n",
        "        # Define layers based on the number of hidden layers and dropout\n",
        "        layers = []\n",
        "        in_features = input_size\n",
        "        for hidden_size in hidden_sizes:\n",
        "            layers.append(nn.Linear(in_features, hidden_size))\n",
        "            if activation_fn == \"relu\":\n",
        "                layers.append(nn.ReLU())\n",
        "            elif activation_fn == \"tanh\":\n",
        "                layers.append(nn.Tanh())\n",
        "            layers.append(nn.Dropout(dropout_rate))\n",
        "            in_features = hidden_size\n",
        "        layers.append(nn.Linear(in_features, output_size))\n",
        "        self.model = nn.Sequential(*layers)\n",
        "\n",
        "# define a Prediction Function\n",
        "    def forward(self, x):\n",
        "        return self.model(x)"
      ],
      "metadata": {
        "id": "FGfFfIrqE9Y2"
      },
      "execution_count": null,
      "outputs": []
    },
    {
      "cell_type": "code",
      "source": [
        "from sklearn.model_selection import ParameterGrid, ParameterSampler\n",
        "\n",
        "# Hyperparameter grid for grid search\n",
        "param_grid = {\n",
        "    \"batch_size\": [16, 32],\n",
        "    \"learning_rate\": [0.01, 0.001, 0.0001],\n",
        "    \"hidden_sizes\": [[10], [10, 5]],\n",
        "    \"activation_fn\": [\"relu\", \"tanh\"],\n",
        "    \"dropout_rate\": [0.0, 0.2],\n",
        "}\n",
        "\n",
        "# Generate all combinations of hyperparameters\n",
        "param_list = list(ParameterGrid(param_grid))"
      ],
      "metadata": {
        "id": "MeaOA2_ldgNH"
      },
      "execution_count": null,
      "outputs": []
    },
    {
      "cell_type": "code",
      "source": [
        "def train_model(params):\n",
        "    # DataLoader instances\n",
        "    train_loader = DataLoader(train_dataset, batch_size=params[\"batch_size\"], shuffle=True)\n",
        "    test_loader = DataLoader(test_dataset, batch_size=params[\"batch_size\"], shuffle=False)\n",
        "\n",
        "    # Instantiate model\n",
        "    model = MLP(\n",
        "        input_size=16,\n",
        "        hidden_sizes=params[\"hidden_sizes\"],\n",
        "        output_size=2,\n",
        "        activation_fn=params[\"activation_fn\"],\n",
        "        dropout_rate=params[\"dropout_rate\"]\n",
        "        )\n",
        "\n",
        "    # Loss function\n",
        "    criterion = nn.CrossEntropyLoss()\n",
        "    # Adam optimizer to update model weight\n",
        "    optimizer = optim.Adam(model.parameters(), lr=params[\"learning_rate\"])\n",
        "\n",
        "    num_epochs = 100\n",
        "    training_losses = []\n",
        "    testing_losses = []\n",
        "    training_accuracies = []\n",
        "    testing_accuracies = []\n",
        "\n",
        "    best_testing_accuracy = 0\n",
        "\n",
        "    # for loop to repeat the iterations\n",
        "    for epoch in range(num_epochs):\n",
        "        model.train()\n",
        "        train_loss = 0\n",
        "        train_correct = 0\n",
        "\n",
        "        for inputs, labels in train_loader:\n",
        "          # Clear gradient buffers because we don't want any gradient from previous epoch to carry forward, dont want to cummulate gradients\n",
        "            optimizer.zero_grad()\n",
        "            outputs = model(inputs)\n",
        "\n",
        "            # get loss for the predicted output\n",
        "            loss = criterion(outputs, labels)\n",
        "\n",
        "            # get gradients w.r.t to parameters\n",
        "            loss.backward()\n",
        "\n",
        "            # update parameters\n",
        "            optimizer.step()\n",
        "\n",
        "            train_loss += loss.item()\n",
        "            # selects the class with the highest probability for each prediction\n",
        "            _, predicted = torch.max(outputs, 1)\n",
        "            # counts the correct predictions in the batch and adds to train_correct\n",
        "            train_correct += (predicted == labels).sum().item()\n",
        "\n",
        "        training_losses.append(train_loss / len(train_loader))\n",
        "        training_accuracies.append(100 * train_correct / len(train_dataset))\n",
        "\n",
        "        # Evaluate on testing data\n",
        "        # Sets the model to evaluation mode (disables dropout and batch normalization)\n",
        "        model.eval()\n",
        "        test_loss = 0\n",
        "        test_correct = 0\n",
        "        with torch.no_grad():\n",
        "            for inputs, labels in test_loader:\n",
        "                outputs = model(inputs)\n",
        "                loss = criterion(outputs, labels)\n",
        "                test_loss += loss.item()\n",
        "                _, predicted = torch.max(outputs, 1)\n",
        "                test_correct += (predicted == labels).sum().item()\n",
        "\n",
        "        testing_losses.append(test_loss / len(test_loader))\n",
        "        testing_accuracy = 100 * test_correct / len(test_dataset)\n",
        "        testing_accuracies.append(testing_accuracy)\n",
        "\n",
        "        if testing_accuracy > best_testing_accuracy:\n",
        "            best_testing_accuracy = testing_accuracy\n",
        "\n",
        "    return {\n",
        "        \"training_loss\": training_losses,\n",
        "        \"testing_loss\": testing_losses,\n",
        "        \"training_accuracy\": training_accuracies,\n",
        "        \"testing_accuracy\": testing_accuracies,\n",
        "        \"best_testing_accuracy\": best_testing_accuracy,\n",
        "        \"params\": params,\n",
        "    }"
      ],
      "metadata": {
        "id": "b-VTL2ox-lQb"
      },
      "execution_count": null,
      "outputs": []
    },
    {
      "cell_type": "code",
      "source": [
        "from tqdm import tqdm\n",
        "# Run grid search for every possible combination\n",
        "results = []\n",
        "for params in tqdm(param_list):\n",
        "    result = train_model(params)\n",
        "    results.append(result)\n",
        "    print(\"\\n Hyperparameters:\", result[\"params\"])\n",
        "    print(f\"Testing Accuracies: {result['best_testing_accuracy']:.3f}\\n\")\n",
        "\n",
        "# Identify the best model by highest testing accuracy\n",
        "best_model = max(results, key=lambda x: max(x[\"testing_accuracy\"]))\n",
        "print(\"\\n Best Model Parameters:\", best_model[\"params\"])\n",
        "print(\"\\n Best Testing Accuracy:\", max(best_model[\"testing_accuracy\"]))"
      ],
      "metadata": {
        "colab": {
          "base_uri": "https://localhost:8080/"
        },
        "id": "cPXLoLXueah-",
        "outputId": "8194eb4e-64fe-4415-d5bb-8e52f4c580e3"
      },
      "execution_count": null,
      "outputs": [
        {
          "output_type": "stream",
          "name": "stderr",
          "text": [
            "  2%|▏         | 1/48 [00:03<02:39,  3.39s/it]"
          ]
        },
        {
          "output_type": "stream",
          "name": "stdout",
          "text": [
            "\n",
            " Hyperparameters: {'activation_fn': 'relu', 'batch_size': 16, 'dropout_rate': 0.0, 'hidden_sizes': [10], 'learning_rate': 0.01}\n",
            "Testing Accuracies: 77.586\n",
            "\n"
          ]
        },
        {
          "output_type": "stream",
          "name": "stderr",
          "text": [
            "\r  4%|▍         | 2/48 [00:07<03:06,  4.06s/it]"
          ]
        },
        {
          "output_type": "stream",
          "name": "stdout",
          "text": [
            "\n",
            " Hyperparameters: {'activation_fn': 'relu', 'batch_size': 16, 'dropout_rate': 0.0, 'hidden_sizes': [10], 'learning_rate': 0.001}\n",
            "Testing Accuracies: 81.034\n",
            "\n"
          ]
        },
        {
          "output_type": "stream",
          "name": "stderr",
          "text": [
            "\r  6%|▋         | 3/48 [00:11<02:49,  3.76s/it]"
          ]
        },
        {
          "output_type": "stream",
          "name": "stdout",
          "text": [
            "\n",
            " Hyperparameters: {'activation_fn': 'relu', 'batch_size': 16, 'dropout_rate': 0.0, 'hidden_sizes': [10], 'learning_rate': 0.0001}\n",
            "Testing Accuracies: 68.966\n",
            "\n"
          ]
        },
        {
          "output_type": "stream",
          "name": "stderr",
          "text": [
            "\r  8%|▊         | 4/48 [00:15<02:47,  3.80s/it]"
          ]
        },
        {
          "output_type": "stream",
          "name": "stdout",
          "text": [
            "\n",
            " Hyperparameters: {'activation_fn': 'relu', 'batch_size': 16, 'dropout_rate': 0.0, 'hidden_sizes': [10, 5], 'learning_rate': 0.01}\n",
            "Testing Accuracies: 81.034\n",
            "\n"
          ]
        },
        {
          "output_type": "stream",
          "name": "stderr",
          "text": [
            "\r 10%|█         | 5/48 [00:19<02:51,  4.00s/it]"
          ]
        },
        {
          "output_type": "stream",
          "name": "stdout",
          "text": [
            "\n",
            " Hyperparameters: {'activation_fn': 'relu', 'batch_size': 16, 'dropout_rate': 0.0, 'hidden_sizes': [10, 5], 'learning_rate': 0.001}\n",
            "Testing Accuracies: 72.414\n",
            "\n"
          ]
        },
        {
          "output_type": "stream",
          "name": "stderr",
          "text": [
            "\r 12%|█▎        | 6/48 [00:24<03:02,  4.34s/it]"
          ]
        },
        {
          "output_type": "stream",
          "name": "stdout",
          "text": [
            "\n",
            " Hyperparameters: {'activation_fn': 'relu', 'batch_size': 16, 'dropout_rate': 0.0, 'hidden_sizes': [10, 5], 'learning_rate': 0.0001}\n",
            "Testing Accuracies: 67.241\n",
            "\n"
          ]
        },
        {
          "output_type": "stream",
          "name": "stderr",
          "text": [
            "\r 15%|█▍        | 7/48 [00:28<02:46,  4.07s/it]"
          ]
        },
        {
          "output_type": "stream",
          "name": "stdout",
          "text": [
            "\n",
            " Hyperparameters: {'activation_fn': 'relu', 'batch_size': 16, 'dropout_rate': 0.2, 'hidden_sizes': [10], 'learning_rate': 0.01}\n",
            "Testing Accuracies: 81.034\n",
            "\n"
          ]
        },
        {
          "output_type": "stream",
          "name": "stderr",
          "text": [
            "\r 17%|█▋        | 8/48 [00:31<02:35,  3.89s/it]"
          ]
        },
        {
          "output_type": "stream",
          "name": "stdout",
          "text": [
            "\n",
            " Hyperparameters: {'activation_fn': 'relu', 'batch_size': 16, 'dropout_rate': 0.2, 'hidden_sizes': [10], 'learning_rate': 0.001}\n",
            "Testing Accuracies: 72.414\n",
            "\n"
          ]
        },
        {
          "output_type": "stream",
          "name": "stderr",
          "text": [
            "\r 19%|█▉        | 9/48 [00:35<02:35,  3.99s/it]"
          ]
        },
        {
          "output_type": "stream",
          "name": "stdout",
          "text": [
            "\n",
            " Hyperparameters: {'activation_fn': 'relu', 'batch_size': 16, 'dropout_rate': 0.2, 'hidden_sizes': [10], 'learning_rate': 0.0001}\n",
            "Testing Accuracies: 67.241\n",
            "\n"
          ]
        },
        {
          "output_type": "stream",
          "name": "stderr",
          "text": [
            "\r 21%|██        | 10/48 [00:40<02:42,  4.29s/it]"
          ]
        },
        {
          "output_type": "stream",
          "name": "stdout",
          "text": [
            "\n",
            " Hyperparameters: {'activation_fn': 'relu', 'batch_size': 16, 'dropout_rate': 0.2, 'hidden_sizes': [10, 5], 'learning_rate': 0.01}\n",
            "Testing Accuracies: 81.034\n",
            "\n"
          ]
        },
        {
          "output_type": "stream",
          "name": "stderr",
          "text": [
            "\r 23%|██▎       | 11/48 [00:44<02:38,  4.27s/it]"
          ]
        },
        {
          "output_type": "stream",
          "name": "stdout",
          "text": [
            "\n",
            " Hyperparameters: {'activation_fn': 'relu', 'batch_size': 16, 'dropout_rate': 0.2, 'hidden_sizes': [10, 5], 'learning_rate': 0.001}\n",
            "Testing Accuracies: 74.138\n",
            "\n"
          ]
        },
        {
          "output_type": "stream",
          "name": "stderr",
          "text": [
            "\r 25%|██▌       | 12/48 [00:49<02:39,  4.42s/it]"
          ]
        },
        {
          "output_type": "stream",
          "name": "stdout",
          "text": [
            "\n",
            " Hyperparameters: {'activation_fn': 'relu', 'batch_size': 16, 'dropout_rate': 0.2, 'hidden_sizes': [10, 5], 'learning_rate': 0.0001}\n",
            "Testing Accuracies: 68.966\n",
            "\n"
          ]
        },
        {
          "output_type": "stream",
          "name": "stderr",
          "text": [
            "\r 27%|██▋       | 13/48 [00:52<02:17,  3.91s/it]"
          ]
        },
        {
          "output_type": "stream",
          "name": "stdout",
          "text": [
            "\n",
            " Hyperparameters: {'activation_fn': 'relu', 'batch_size': 32, 'dropout_rate': 0.0, 'hidden_sizes': [10], 'learning_rate': 0.01}\n",
            "Testing Accuracies: 75.862\n",
            "\n"
          ]
        },
        {
          "output_type": "stream",
          "name": "stderr",
          "text": [
            "\r 29%|██▉       | 14/48 [00:54<01:52,  3.32s/it]"
          ]
        },
        {
          "output_type": "stream",
          "name": "stdout",
          "text": [
            "\n",
            " Hyperparameters: {'activation_fn': 'relu', 'batch_size': 32, 'dropout_rate': 0.0, 'hidden_sizes': [10], 'learning_rate': 0.001}\n",
            "Testing Accuracies: 77.586\n",
            "\n"
          ]
        },
        {
          "output_type": "stream",
          "name": "stderr",
          "text": [
            "\r 31%|███▏      | 15/48 [00:56<01:34,  2.88s/it]"
          ]
        },
        {
          "output_type": "stream",
          "name": "stdout",
          "text": [
            "\n",
            " Hyperparameters: {'activation_fn': 'relu', 'batch_size': 32, 'dropout_rate': 0.0, 'hidden_sizes': [10], 'learning_rate': 0.0001}\n",
            "Testing Accuracies: 72.414\n",
            "\n"
          ]
        },
        {
          "output_type": "stream",
          "name": "stderr",
          "text": [
            "\r 33%|███▎      | 16/48 [00:58<01:26,  2.69s/it]"
          ]
        },
        {
          "output_type": "stream",
          "name": "stdout",
          "text": [
            "\n",
            " Hyperparameters: {'activation_fn': 'relu', 'batch_size': 32, 'dropout_rate': 0.0, 'hidden_sizes': [10, 5], 'learning_rate': 0.01}\n",
            "Testing Accuracies: 74.138\n",
            "\n"
          ]
        },
        {
          "output_type": "stream",
          "name": "stderr",
          "text": [
            "\r 35%|███▌      | 17/48 [01:00<01:19,  2.55s/it]"
          ]
        },
        {
          "output_type": "stream",
          "name": "stdout",
          "text": [
            "\n",
            " Hyperparameters: {'activation_fn': 'relu', 'batch_size': 32, 'dropout_rate': 0.0, 'hidden_sizes': [10, 5], 'learning_rate': 0.001}\n",
            "Testing Accuracies: 79.310\n",
            "\n"
          ]
        },
        {
          "output_type": "stream",
          "name": "stderr",
          "text": [
            "\r 38%|███▊      | 18/48 [01:03<01:15,  2.51s/it]"
          ]
        },
        {
          "output_type": "stream",
          "name": "stdout",
          "text": [
            "\n",
            " Hyperparameters: {'activation_fn': 'relu', 'batch_size': 32, 'dropout_rate': 0.0, 'hidden_sizes': [10, 5], 'learning_rate': 0.0001}\n",
            "Testing Accuracies: 70.690\n",
            "\n"
          ]
        },
        {
          "output_type": "stream",
          "name": "stderr",
          "text": [
            "\r 40%|███▉      | 19/48 [01:05<01:15,  2.60s/it]"
          ]
        },
        {
          "output_type": "stream",
          "name": "stdout",
          "text": [
            "\n",
            " Hyperparameters: {'activation_fn': 'relu', 'batch_size': 32, 'dropout_rate': 0.2, 'hidden_sizes': [10], 'learning_rate': 0.01}\n",
            "Testing Accuracies: 77.586\n",
            "\n"
          ]
        },
        {
          "output_type": "stream",
          "name": "stderr",
          "text": [
            "\r 42%|████▏     | 20/48 [01:08<01:10,  2.53s/it]"
          ]
        },
        {
          "output_type": "stream",
          "name": "stdout",
          "text": [
            "\n",
            " Hyperparameters: {'activation_fn': 'relu', 'batch_size': 32, 'dropout_rate': 0.2, 'hidden_sizes': [10], 'learning_rate': 0.001}\n",
            "Testing Accuracies: 75.862\n",
            "\n"
          ]
        },
        {
          "output_type": "stream",
          "name": "stderr",
          "text": [
            "\r 44%|████▍     | 21/48 [01:10<01:04,  2.39s/it]"
          ]
        },
        {
          "output_type": "stream",
          "name": "stdout",
          "text": [
            "\n",
            " Hyperparameters: {'activation_fn': 'relu', 'batch_size': 32, 'dropout_rate': 0.2, 'hidden_sizes': [10], 'learning_rate': 0.0001}\n",
            "Testing Accuracies: 70.690\n",
            "\n"
          ]
        },
        {
          "output_type": "stream",
          "name": "stderr",
          "text": [
            "\r 46%|████▌     | 22/48 [01:12<01:01,  2.37s/it]"
          ]
        },
        {
          "output_type": "stream",
          "name": "stdout",
          "text": [
            "\n",
            " Hyperparameters: {'activation_fn': 'relu', 'batch_size': 32, 'dropout_rate': 0.2, 'hidden_sizes': [10, 5], 'learning_rate': 0.01}\n",
            "Testing Accuracies: 81.034\n",
            "\n"
          ]
        },
        {
          "output_type": "stream",
          "name": "stderr",
          "text": [
            "\r 48%|████▊     | 23/48 [01:15<00:59,  2.36s/it]"
          ]
        },
        {
          "output_type": "stream",
          "name": "stdout",
          "text": [
            "\n",
            " Hyperparameters: {'activation_fn': 'relu', 'batch_size': 32, 'dropout_rate': 0.2, 'hidden_sizes': [10, 5], 'learning_rate': 0.001}\n",
            "Testing Accuracies: 74.138\n",
            "\n"
          ]
        },
        {
          "output_type": "stream",
          "name": "stderr",
          "text": [
            "\r 50%|█████     | 24/48 [01:17<00:57,  2.42s/it]"
          ]
        },
        {
          "output_type": "stream",
          "name": "stdout",
          "text": [
            "\n",
            " Hyperparameters: {'activation_fn': 'relu', 'batch_size': 32, 'dropout_rate': 0.2, 'hidden_sizes': [10, 5], 'learning_rate': 0.0001}\n",
            "Testing Accuracies: 50.000\n",
            "\n"
          ]
        },
        {
          "output_type": "stream",
          "name": "stderr",
          "text": [
            "\r 52%|█████▏    | 25/48 [01:22<01:10,  3.05s/it]"
          ]
        },
        {
          "output_type": "stream",
          "name": "stdout",
          "text": [
            "\n",
            " Hyperparameters: {'activation_fn': 'tanh', 'batch_size': 16, 'dropout_rate': 0.0, 'hidden_sizes': [10], 'learning_rate': 0.01}\n",
            "Testing Accuracies: 74.138\n",
            "\n"
          ]
        },
        {
          "output_type": "stream",
          "name": "stderr",
          "text": [
            "\r 54%|█████▍    | 26/48 [01:25<01:09,  3.14s/it]"
          ]
        },
        {
          "output_type": "stream",
          "name": "stdout",
          "text": [
            "\n",
            " Hyperparameters: {'activation_fn': 'tanh', 'batch_size': 16, 'dropout_rate': 0.0, 'hidden_sizes': [10], 'learning_rate': 0.001}\n",
            "Testing Accuracies: 74.138\n",
            "\n"
          ]
        },
        {
          "output_type": "stream",
          "name": "stderr",
          "text": [
            "\r 56%|█████▋    | 27/48 [01:28<01:07,  3.20s/it]"
          ]
        },
        {
          "output_type": "stream",
          "name": "stdout",
          "text": [
            "\n",
            " Hyperparameters: {'activation_fn': 'tanh', 'batch_size': 16, 'dropout_rate': 0.0, 'hidden_sizes': [10], 'learning_rate': 0.0001}\n",
            "Testing Accuracies: 77.586\n",
            "\n"
          ]
        },
        {
          "output_type": "stream",
          "name": "stderr",
          "text": [
            "\r 58%|█████▊    | 28/48 [01:33<01:11,  3.55s/it]"
          ]
        },
        {
          "output_type": "stream",
          "name": "stdout",
          "text": [
            "\n",
            " Hyperparameters: {'activation_fn': 'tanh', 'batch_size': 16, 'dropout_rate': 0.0, 'hidden_sizes': [10, 5], 'learning_rate': 0.01}\n",
            "Testing Accuracies: 79.310\n",
            "\n"
          ]
        },
        {
          "output_type": "stream",
          "name": "stderr",
          "text": [
            "\r 60%|██████    | 29/48 [01:38<01:15,  3.97s/it]"
          ]
        },
        {
          "output_type": "stream",
          "name": "stdout",
          "text": [
            "\n",
            " Hyperparameters: {'activation_fn': 'tanh', 'batch_size': 16, 'dropout_rate': 0.0, 'hidden_sizes': [10, 5], 'learning_rate': 0.001}\n",
            "Testing Accuracies: 79.310\n",
            "\n"
          ]
        },
        {
          "output_type": "stream",
          "name": "stderr",
          "text": [
            "\r 62%|██████▎   | 30/48 [01:41<01:10,  3.92s/it]"
          ]
        },
        {
          "output_type": "stream",
          "name": "stdout",
          "text": [
            "\n",
            " Hyperparameters: {'activation_fn': 'tanh', 'batch_size': 16, 'dropout_rate': 0.0, 'hidden_sizes': [10, 5], 'learning_rate': 0.0001}\n",
            "Testing Accuracies: 82.759\n",
            "\n"
          ]
        },
        {
          "output_type": "stream",
          "name": "stderr",
          "text": [
            "\r 65%|██████▍   | 31/48 [01:45<01:04,  3.78s/it]"
          ]
        },
        {
          "output_type": "stream",
          "name": "stdout",
          "text": [
            "\n",
            " Hyperparameters: {'activation_fn': 'tanh', 'batch_size': 16, 'dropout_rate': 0.2, 'hidden_sizes': [10], 'learning_rate': 0.01}\n",
            "Testing Accuracies: 77.586\n",
            "\n"
          ]
        },
        {
          "output_type": "stream",
          "name": "stderr",
          "text": [
            "\r 67%|██████▋   | 32/48 [01:49<01:02,  3.93s/it]"
          ]
        },
        {
          "output_type": "stream",
          "name": "stdout",
          "text": [
            "\n",
            " Hyperparameters: {'activation_fn': 'tanh', 'batch_size': 16, 'dropout_rate': 0.2, 'hidden_sizes': [10], 'learning_rate': 0.001}\n",
            "Testing Accuracies: 79.310\n",
            "\n"
          ]
        },
        {
          "output_type": "stream",
          "name": "stderr",
          "text": [
            "\r 69%|██████▉   | 33/48 [01:53<00:59,  3.94s/it]"
          ]
        },
        {
          "output_type": "stream",
          "name": "stdout",
          "text": [
            "\n",
            " Hyperparameters: {'activation_fn': 'tanh', 'batch_size': 16, 'dropout_rate': 0.2, 'hidden_sizes': [10], 'learning_rate': 0.0001}\n",
            "Testing Accuracies: 79.310\n",
            "\n"
          ]
        },
        {
          "output_type": "stream",
          "name": "stderr",
          "text": [
            "\r 71%|███████   | 34/48 [01:57<00:56,  4.01s/it]"
          ]
        },
        {
          "output_type": "stream",
          "name": "stdout",
          "text": [
            "\n",
            " Hyperparameters: {'activation_fn': 'tanh', 'batch_size': 16, 'dropout_rate': 0.2, 'hidden_sizes': [10, 5], 'learning_rate': 0.01}\n",
            "Testing Accuracies: 82.759\n",
            "\n"
          ]
        },
        {
          "output_type": "stream",
          "name": "stderr",
          "text": [
            "\r 73%|███████▎  | 35/48 [02:02<00:53,  4.14s/it]"
          ]
        },
        {
          "output_type": "stream",
          "name": "stdout",
          "text": [
            "\n",
            " Hyperparameters: {'activation_fn': 'tanh', 'batch_size': 16, 'dropout_rate': 0.2, 'hidden_sizes': [10, 5], 'learning_rate': 0.001}\n",
            "Testing Accuracies: 81.034\n",
            "\n"
          ]
        },
        {
          "output_type": "stream",
          "name": "stderr",
          "text": [
            "\r 75%|███████▌  | 36/48 [02:07<00:53,  4.46s/it]"
          ]
        },
        {
          "output_type": "stream",
          "name": "stdout",
          "text": [
            "\n",
            " Hyperparameters: {'activation_fn': 'tanh', 'batch_size': 16, 'dropout_rate': 0.2, 'hidden_sizes': [10, 5], 'learning_rate': 0.0001}\n",
            "Testing Accuracies: 72.414\n",
            "\n"
          ]
        },
        {
          "output_type": "stream",
          "name": "stderr",
          "text": [
            "\r 77%|███████▋  | 37/48 [02:09<00:41,  3.73s/it]"
          ]
        },
        {
          "output_type": "stream",
          "name": "stdout",
          "text": [
            "\n",
            " Hyperparameters: {'activation_fn': 'tanh', 'batch_size': 32, 'dropout_rate': 0.0, 'hidden_sizes': [10], 'learning_rate': 0.01}\n",
            "Testing Accuracies: 75.862\n",
            "\n"
          ]
        },
        {
          "output_type": "stream",
          "name": "stderr",
          "text": [
            "\r 79%|███████▉  | 38/48 [02:11<00:31,  3.17s/it]"
          ]
        },
        {
          "output_type": "stream",
          "name": "stdout",
          "text": [
            "\n",
            " Hyperparameters: {'activation_fn': 'tanh', 'batch_size': 32, 'dropout_rate': 0.0, 'hidden_sizes': [10], 'learning_rate': 0.001}\n",
            "Testing Accuracies: 84.483\n",
            "\n"
          ]
        },
        {
          "output_type": "stream",
          "name": "stderr",
          "text": [
            "\r 81%|████████▏ | 39/48 [02:13<00:25,  2.79s/it]"
          ]
        },
        {
          "output_type": "stream",
          "name": "stdout",
          "text": [
            "\n",
            " Hyperparameters: {'activation_fn': 'tanh', 'batch_size': 32, 'dropout_rate': 0.0, 'hidden_sizes': [10], 'learning_rate': 0.0001}\n",
            "Testing Accuracies: 77.586\n",
            "\n"
          ]
        },
        {
          "output_type": "stream",
          "name": "stderr",
          "text": [
            "\r 83%|████████▎ | 40/48 [02:15<00:20,  2.61s/it]"
          ]
        },
        {
          "output_type": "stream",
          "name": "stdout",
          "text": [
            "\n",
            " Hyperparameters: {'activation_fn': 'tanh', 'batch_size': 32, 'dropout_rate': 0.0, 'hidden_sizes': [10, 5], 'learning_rate': 0.01}\n",
            "Testing Accuracies: 77.586\n",
            "\n"
          ]
        },
        {
          "output_type": "stream",
          "name": "stderr",
          "text": [
            "\r 85%|████████▌ | 41/48 [02:18<00:18,  2.67s/it]"
          ]
        },
        {
          "output_type": "stream",
          "name": "stdout",
          "text": [
            "\n",
            " Hyperparameters: {'activation_fn': 'tanh', 'batch_size': 32, 'dropout_rate': 0.0, 'hidden_sizes': [10, 5], 'learning_rate': 0.001}\n",
            "Testing Accuracies: 77.586\n",
            "\n"
          ]
        },
        {
          "output_type": "stream",
          "name": "stderr",
          "text": [
            "\r 88%|████████▊ | 42/48 [02:21<00:16,  2.76s/it]"
          ]
        },
        {
          "output_type": "stream",
          "name": "stdout",
          "text": [
            "\n",
            " Hyperparameters: {'activation_fn': 'tanh', 'batch_size': 32, 'dropout_rate': 0.0, 'hidden_sizes': [10, 5], 'learning_rate': 0.0001}\n",
            "Testing Accuracies: 70.690\n",
            "\n"
          ]
        },
        {
          "output_type": "stream",
          "name": "stderr",
          "text": [
            "\r 90%|████████▉ | 43/48 [02:23<00:12,  2.52s/it]"
          ]
        },
        {
          "output_type": "stream",
          "name": "stdout",
          "text": [
            "\n",
            " Hyperparameters: {'activation_fn': 'tanh', 'batch_size': 32, 'dropout_rate': 0.2, 'hidden_sizes': [10], 'learning_rate': 0.01}\n",
            "Testing Accuracies: 79.310\n",
            "\n"
          ]
        },
        {
          "output_type": "stream",
          "name": "stderr",
          "text": [
            "\r 92%|█████████▏| 44/48 [02:25<00:09,  2.37s/it]"
          ]
        },
        {
          "output_type": "stream",
          "name": "stdout",
          "text": [
            "\n",
            " Hyperparameters: {'activation_fn': 'tanh', 'batch_size': 32, 'dropout_rate': 0.2, 'hidden_sizes': [10], 'learning_rate': 0.001}\n",
            "Testing Accuracies: 81.034\n",
            "\n"
          ]
        },
        {
          "output_type": "stream",
          "name": "stderr",
          "text": [
            "\r 94%|█████████▍| 45/48 [02:27<00:06,  2.29s/it]"
          ]
        },
        {
          "output_type": "stream",
          "name": "stdout",
          "text": [
            "\n",
            " Hyperparameters: {'activation_fn': 'tanh', 'batch_size': 32, 'dropout_rate': 0.2, 'hidden_sizes': [10], 'learning_rate': 0.0001}\n",
            "Testing Accuracies: 75.862\n",
            "\n"
          ]
        },
        {
          "output_type": "stream",
          "name": "stderr",
          "text": [
            "\r 96%|█████████▌| 46/48 [02:29<00:04,  2.30s/it]"
          ]
        },
        {
          "output_type": "stream",
          "name": "stdout",
          "text": [
            "\n",
            " Hyperparameters: {'activation_fn': 'tanh', 'batch_size': 32, 'dropout_rate': 0.2, 'hidden_sizes': [10, 5], 'learning_rate': 0.01}\n",
            "Testing Accuracies: 77.586\n",
            "\n"
          ]
        },
        {
          "output_type": "stream",
          "name": "stderr",
          "text": [
            "\r 98%|█████████▊| 47/48 [02:32<00:02,  2.48s/it]"
          ]
        },
        {
          "output_type": "stream",
          "name": "stdout",
          "text": [
            "\n",
            " Hyperparameters: {'activation_fn': 'tanh', 'batch_size': 32, 'dropout_rate': 0.2, 'hidden_sizes': [10, 5], 'learning_rate': 0.001}\n",
            "Testing Accuracies: 75.862\n",
            "\n"
          ]
        },
        {
          "output_type": "stream",
          "name": "stderr",
          "text": [
            "100%|██████████| 48/48 [02:35<00:00,  3.25s/it]"
          ]
        },
        {
          "output_type": "stream",
          "name": "stdout",
          "text": [
            "\n",
            " Hyperparameters: {'activation_fn': 'tanh', 'batch_size': 32, 'dropout_rate': 0.2, 'hidden_sizes': [10, 5], 'learning_rate': 0.0001}\n",
            "Testing Accuracies: 70.690\n",
            "\n",
            "\n",
            " Best Model Parameters: {'activation_fn': 'tanh', 'batch_size': 32, 'dropout_rate': 0.0, 'hidden_sizes': [10], 'learning_rate': 0.001}\n",
            "\n",
            " Best Testing Accuracy: 84.48275862068965\n"
          ]
        },
        {
          "output_type": "stream",
          "name": "stderr",
          "text": [
            "\n"
          ]
        }
      ]
    },
    {
      "cell_type": "code",
      "source": [
        "import matplotlib.pyplot as plt\n",
        "\n",
        "# Plot training and testing losses across epochs\n",
        "plt.figure(figsize=(12, 5))\n",
        "plt.plot(best_model[\"training_loss\"], label=\"Training Loss\")\n",
        "plt.plot(best_model[\"testing_loss\"], label=\"Testing Loss\")\n",
        "plt.xlabel(\"Epochs\")\n",
        "plt.ylabel(\"Loss\")\n",
        "plt.title(\"Training and Testing Loss Across Epochs\")\n",
        "plt.legend()\n",
        "plt.show()"
      ],
      "metadata": {
        "colab": {
          "base_uri": "https://localhost:8080/",
          "height": 487
        },
        "id": "6keLgcTCGnhx",
        "outputId": "1b115f46-58af-46ad-e613-9c288315b4be"
      },
      "execution_count": null,
      "outputs": [
        {
          "output_type": "display_data",
          "data": {
            "text/plain": [
              "<Figure size 1200x500 with 1 Axes>"
            ],
            "image/png": "[encoded data removed]"
          },
          "metadata": {}
        }
      ]
    },
    {
      "cell_type": "code",
      "execution_count": null,
      "metadata": {
        "colab": {
          "base_uri": "https://localhost:8080/",
          "height": 487
        },
        "id": "AtpgGkELZqAR",
        "outputId": "cf99fb8a-a34f-4555-d4bd-1bbc0c53d97e"
      },
      "outputs": [
        {
          "output_type": "display_data",
          "data": {
            "text/plain": [
              "<Figure size 1200x500 with 1 Axes>"
            ],
            "image/png": "[encoded data removed]"
          },
          "metadata": {}
        }
      ],
      "source": [
        "# Plot training and testing accuracies across epochs\n",
        "plt.figure(figsize=(12, 5))\n",
        "plt.plot(best_model[\"training_accuracy\"], label=\"Training Accuracy\")\n",
        "plt.plot(best_model[\"testing_accuracy\"], label=\"Testing Accuracy\")\n",
        "plt.xlabel(\"Epochs\")\n",
        "plt.ylabel(\"Accuracy (%)\")\n",
        "plt.title(\"Training and Testing Accuracy Across Epochs\")\n",
        "plt.legend()\n",
        "plt.show()"
      ]
    },
    {
      "cell_type": "markdown",
      "metadata": {
        "id": "U5ToHWcRUCc_"
      },
      "source": [
        "# Reference\n",
        "\n",
        "1.   https://medium.com/@shashankshankar10/introduction-to-neural-networks-build-a-single-layer-perceptron-in-pytorch-c22d9b412ccf\n",
        "2.   https://medium.com/@reddyyashu20/deep-learning-with-pytorch-780be96b2819\n",
        "\n"
      ]
    }
  ],
  "metadata": {
    "colab": {
      "provenance": [],
      "include_colab_link": true
    },
    "kernelspec": {
      "display_name": "Python 3",
      "name": "python3"
    },
    "language_info": {
      "name": "python"
    }
  },
  "nbformat": 4,
  "nbformat_minor": 0
}